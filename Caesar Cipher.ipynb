{
 "cells": [
  {
   "cell_type": "markdown",
   "metadata": {},
   "source": [
    "The Caesar Cipher is a very simple encryption method that replaces each letter in a text by another letter which is specified by a given shift in the alphabet. The shift determines how many letters in the alphabet one should go ahead to find the replacement.\n",
    "\n",
    "Example:\n",
    "\n",
    "- The letter ”a” with shift 1 results in the letter ”b”.\n",
    "- The letter ”c” with shift 2 results in the letter ”e”.\n",
    "\n",
    "Negative shifting is also possible: \n",
    "\n",
    "- The letter ”f” with shift -1 results in the letter ”e”.\n",
    "\n",
    "When a letter would ”drop off” one end of the alphabet, we just start at the other end:\n",
    "\n",
    "- The letter ”z” with shift 1 results in the letter ”a”. \n",
    "- The letter ”a” with shift -3 results in the letter ”x”"
   ]
  },
  {
   "attachments": {},
   "cell_type": "markdown",
   "metadata": {},
   "source": [
    "__The Task__\n",
    "\n",
    "After years of work for the secret society of secrets, you have finally got your hands on a secret message from the evil league of evil and want to decrypt it. Due to your extensive study of the evil league of evil, you already know that they always encrypt their messages using the Caesar Cipher. As your time is too valuable to just try out every single possible shift. \n",
    "\n",
    "You remember that some letters are more common than others in the English language, e.g. the letter ”e” is the most common one. Using this knowledge you want to analyze the secret message and figure out the key."
   ]
  },
  {
   "cell_type": "code",
   "execution_count": 44,
   "metadata": {},
   "outputs": [],
   "source": [
    "e_real_message = 'hello, my name is aobei jia'"
   ]
  },
  {
   "cell_type": "code",
   "execution_count": 45,
   "metadata": {},
   "outputs": [
    {
     "name": "stdout",
     "output_type": "stream",
     "text": [
      "olssv, tf uhtl pz hvilp qph\n"
     ]
    }
   ],
   "source": [
    "# Encrypt the massage\n",
    "e_secret_message = ''\n",
    "\n",
    "for i in e_real_message:\n",
    "    e_before_shift = ord(i)\n",
    "\n",
    "    if 97<=e_before_shift<=122:\n",
    "        e_after_shift = e_before_shift + 7\n",
    "        if e_after_shift > 122:\n",
    "            e_after_shift = e_after_shift +96 - 122 \n",
    "        j = chr(e_after_shift)\n",
    "    \n",
    "    else:\n",
    "        j = i\n",
    "    e_secret_message += j\n",
    "    \n",
    "print(e_secret_message)"
   ]
  },
  {
   "cell_type": "code",
   "execution_count": 46,
   "metadata": {},
   "outputs": [],
   "source": [
    "secret_message = e_secret_message"
   ]
  },
  {
   "cell_type": "code",
   "execution_count": 47,
   "metadata": {},
   "outputs": [
    {
     "name": "stdout",
     "output_type": "stream",
     "text": [
      "Secret message is: olssv, tf uhtl pz hvilp qph\n",
      "Message after clean {'p', 'o', 'l', 't', 'v', 'u', 'h', 'z', 's', 'f', 'i', 'q'}\n",
      "Dictionary present times of each letter shows {'p': 3, 'o': 1, 'l': 3, 't': 2, 'v': 2, 'u': 1, 'h': 3, 'z': 1, 's': 2, 'f': 1, 'i': 1, 'q': 1}\n",
      "whcih letter is e: p ,and how many times it appeared: 3\n",
      "whcih letter is e: l ,and how many times it appeared: 3\n",
      "whcih letter is e: h ,and how many times it appeared: 3\n",
      "shift number is: 7\n"
     ]
    }
   ],
   "source": [
    "# Secret message has given already\n",
    "secret_message = secret_message.lower()\n",
    "print(\"Secret message is:\",secret_message)\n",
    "\n",
    "# Cleaning the secret message\n",
    "message = str(secret_message).replace(',','')\n",
    "message = str(message).replace('!','')\n",
    "message =set(''.join(message.split( )))\n",
    "print(\"Message after clean\",message)\n",
    "\n",
    "# For loop to build a dict\n",
    "Dict = dict()\n",
    "times = 0\n",
    "for i in message:\n",
    "    for j in secret_message:\n",
    "        if j == i:\n",
    "            times += 1\n",
    "    Dict[i] = times\n",
    "    times = 0\n",
    "print(\"Dictionary present times of each letter shows\",Dict)\n",
    "\n",
    "# Fine letter e and shift number\n",
    "for key,value in Dict.items():\n",
    "    if(value == max(Dict.values())):\n",
    "        print(\"whcih letter is e:\",key,\",and how many times it appeared:\",value)\n",
    "shift = ord('l') - ord('e')\n",
    "print('shift number is:',shift)"
   ]
  },
  {
   "attachments": {},
   "cell_type": "markdown",
   "metadata": {},
   "source": [
    "Decrypt the message: After you figure out the shift, you are now ready to write a program that will decrypt your secret message, based on the shift that was used."
   ]
  },
  {
   "cell_type": "code",
   "execution_count": 48,
   "metadata": {},
   "outputs": [
    {
     "name": "stdout",
     "output_type": "stream",
     "text": [
      "hello, my name is aobei jia\n"
     ]
    }
   ],
   "source": [
    "# Decrypt the Message based on the shift that was used\n",
    "real_message = ''\n",
    "\n",
    "for i in secret_message:\n",
    "    after_shift = ord(i)\n",
    "    if 97<=after_shift<=122:\n",
    "        before_shift = after_shift - 7\n",
    "        if before_shift < 97:\n",
    "            before_shift = before_shift -96 + 122 \n",
    "        j = chr(before_shift)\n",
    "    else:\n",
    "        j = i\n",
    "    real_message += j\n",
    "    \n",
    "print(real_message)\n"
   ]
  },
  {
   "cell_type": "markdown",
   "metadata": {},
   "source": [
    "---"
   ]
  }
 ],
 "metadata": {
  "kernelspec": {
   "display_name": "Python 3",
   "language": "python",
   "name": "python3"
  },
  "language_info": {
   "codemirror_mode": {
    "name": "ipython",
    "version": 3
   },
   "file_extension": ".py",
   "mimetype": "text/x-python",
   "name": "python",
   "nbconvert_exporter": "python",
   "pygments_lexer": "ipython3",
   "version": "3.10.7"
  },
  "vscode": {
   "interpreter": {
    "hash": "2469a70536e4d2335a2ea8907942d0699c37342a371ac185bdb5b0aa6f073890"
   }
  }
 },
 "nbformat": 4,
 "nbformat_minor": 2
}
