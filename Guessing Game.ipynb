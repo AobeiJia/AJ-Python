{
 "cells": [
  {
   "attachments": {},
   "cell_type": "markdown",
   "metadata": {},
   "source": [
    "### Guessing Game\n",
    "\n",
    "---"
   ]
  },
  {
   "cell_type": "markdown",
   "metadata": {},
   "source": [
    "Use random number generation to program a little game:\n",
    "\n",
    "The computer thinks of a random number between 1 and 100. It then prompts the user to guess what the number is. If the user is wrong, the computer prints whether the secret number is greater or smaller than the guessed one. The user may then guess again. If the user is finally right, the computer prints the user’s score (number of tries it took).\n",
    "\n",
    "Example Output:\n",
    "\n",
    "<pre>\n",
    "Ok, I have thought of a number. First guess: <b>10</b> \n",
    "My number is smaller than that. Next guess: <b>5</b> \n",
    "My number is larger than that. Next guess: <b>7</b> \n",
    "Correct! It took you 3 guesses.\n",
    "</pre>"
   ]
  },
  {
   "cell_type": "markdown",
   "metadata": {},
   "source": [
    "---"
   ]
  },
  {
   "cell_type": "code",
   "execution_count": 6,
   "metadata": {},
   "outputs": [
    {
     "name": "stdout",
     "output_type": "stream",
     "text": [
      "Ok, I have thought of a number. First guess:  50\n",
      "My number is smaller than the target. Next guess is:  70\n",
      "My number is larger than the target. Next guess is:  65\n",
      "My number is larger than the target. Next guess is:  57\n",
      "My number is larger than the target. Next guess is:  55\n",
      "My number is smaller than the target. Next guess is:  54\n",
      "Correct! It took you 6 guesses.\n"
     ]
    }
   ],
   "source": [
    "# Really Little Guess Game\n",
    "import random\n",
    "\n",
    "# random a number\n",
    "random_number = random.randint(1,100)\n",
    "#print(random_number)\n",
    "tried_times = 0\n",
    "\n",
    "# input the player's number\n",
    "input_number = int(input(\"Ok, I have thought of a number. First guess: \"))\n",
    "print(\"Ok, I have thought of a number. First guess: \", input_number)\n",
    "\n",
    "# while loop , update tried times and input number\n",
    "while input_number != random_number:\n",
    "    tried_times += 1\n",
    "    if input_number < random_number:\n",
    "        input_number = int(input(\"My number is smaller than the target. Next guess: \"))\n",
    "        print(\"My number is smaller than the target. Next guess is: \", input_number)\n",
    "    else:\n",
    "        input_number = int(input(\"My number is larger than the target. Next guess: \"))\n",
    "        print(\"My number is larger than the target. Next guess is: \", input_number)\n",
    "\n",
    "# Don't forget the correct time\n",
    "tried_times += 1  \n",
    "\n",
    "# print the result\n",
    "print(\"Correct! It took you\", tried_times, \"guesses.\")"
   ]
  }
 ],
 "metadata": {
  "kernelspec": {
   "display_name": "Python 3",
   "language": "python",
   "name": "python3"
  },
  "language_info": {
   "codemirror_mode": {
    "name": "ipython",
    "version": 3
   },
   "file_extension": ".py",
   "mimetype": "text/x-python",
   "name": "python",
   "nbconvert_exporter": "python",
   "pygments_lexer": "ipython3",
   "version": "3.10.7"
  },
  "vscode": {
   "interpreter": {
    "hash": "2469a70536e4d2335a2ea8907942d0699c37342a371ac185bdb5b0aa6f073890"
   }
  }
 },
 "nbformat": 4,
 "nbformat_minor": 2
}
