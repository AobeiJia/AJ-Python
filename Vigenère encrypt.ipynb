{
 "cells": [
  {
   "attachments": {},
   "cell_type": "markdown",
   "metadata": {},
   "source": [
    "The Vigenère cipher is a polyalphabetic substitution cipher invented in the 16th century by Blaise de Vigenère. It is a letter-based cipher that uses a string of characters called a key to substitute each plaintext letter.\n",
    "\n",
    "For example, let's say our plaintext is \"HELLO\" and the key is \"SECRET\". We can pair the plaintext letters with the key letters by position, and replace each plaintext letter with the corresponding ciphertext letter in the alphabet. In this example, we replace \"H\" with \"S\", \"E\" with \"E\", \"L\" with \"C\", \"L\" with \"R\", and \"O\" with \"T\", resulting in the ciphertext \"SECRT\".\n",
    "\n",
    "The Vigenère cipher is a fairly effective encryption method because it uses multiple key strings making it hard to decipher the ciphertext. However, it also has some drawbacks, such as if the key length is the same as the plaintext length, it is no longer secure. So, if you are using the Vigenère cipher, be mindful to use a key that is long enough to make it secure."
   ]
  },
  {
   "cell_type": "code",
   "execution_count": 1,
   "metadata": {},
   "outputs": [
    {
     "name": "stdout",
     "output_type": "stream",
     "text": [
      "Your Plaintext is : WI UQ NRUW IJ UPMZ\n"
     ]
    }
   ],
   "source": [
    "# Define the process of encrypt\n",
    "def vigenere_encrypt(plaintext, keyword):\n",
    "    alphabet = \"ABCDEFGHIJKLMNOPQRSTUVWXYZ\"\n",
    "    keyword = keyword.upper()\n",
    "    plaintext = plaintext.upper()\n",
    "    ciphertext = \"\"\n",
    "    for j, char in enumerate(plaintext):\n",
    "        if char in alphabet:\n",
    "            shift = alphabet.index(keyword[j % len(keyword)])\n",
    "            new_char_index = (alphabet.index(char) + shift) % 26\n",
    "            new_char = alphabet[new_char_index]\n",
    "            ciphertext += new_char\n",
    "        else:\n",
    "            ciphertext += char\n",
    "    return ciphertext\n",
    "\n",
    "# Define the plaintext\n",
    "plaintext = input('What you want to encrypt:')\n",
    "\n",
    "# Define the keyword\n",
    "keyword = input('Give me a keyword you will not forget:')\n",
    "\n",
    "print('Your Plaintext is :',vigenere_encrypt(plaintext, keyword))"
   ]
  },
  {
   "cell_type": "code",
   "execution_count": 2,
   "metadata": {},
   "outputs": [
    {
     "name": "stdout",
     "output_type": "stream",
     "text": [
      "Your Plaintext is : HI MY NAME IS CAMI\n"
     ]
    }
   ],
   "source": [
    "# Define the process of decrypt\n",
    "def vigenere_decrypt(ciphertext, keyword):\n",
    "    alphabet = \"ABCDEFGHIJKLMNOPQRSTUVWXYZ\"\n",
    "    keyword = keyword.upper()\n",
    "    ciphertext = ciphertext.upper()\n",
    "    plaintext = \"\"\n",
    "    for j, char in enumerate(ciphertext):\n",
    "        if char in alphabet:\n",
    "            shift = alphabet.index(keyword[j % len(keyword)])\n",
    "            new_char_index = (alphabet.index(char) - shift + 26) % 26\n",
    "            new_char = alphabet[new_char_index]\n",
    "            plaintext += new_char\n",
    "        else:\n",
    "            plaintext += char\n",
    "    return plaintext\n",
    "\n",
    "# Define the ciphertext\n",
    "ciphertext = input('Your ciphertext is :')\n",
    "\n",
    "# Define the keyword\n",
    "keyword = input('Our Keyword is :')\n",
    "\n",
    "print('Your Plaintext is :',vigenere_decrypt(ciphertext, keyword))"
   ]
  }
 ],
 "metadata": {
  "kernelspec": {
   "display_name": "Python 3",
   "language": "python",
   "name": "python3"
  },
  "language_info": {
   "codemirror_mode": {
    "name": "ipython",
    "version": 3
   },
   "file_extension": ".py",
   "mimetype": "text/x-python",
   "name": "python",
   "nbconvert_exporter": "python",
   "pygments_lexer": "ipython3",
   "version": "3.10.7"
  },
  "orig_nbformat": 4,
  "vscode": {
   "interpreter": {
    "hash": "2469a70536e4d2335a2ea8907942d0699c37342a371ac185bdb5b0aa6f073890"
   }
  }
 },
 "nbformat": 4,
 "nbformat_minor": 2
}
